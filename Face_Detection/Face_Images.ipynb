{
  "cells": [
    {
      "cell_type": "markdown",
      "source": [
        "# Import Faces Images"
      ],
      "metadata": {
        "id": "xrEk_jaHcftZ"
      }
    },
    {
      "cell_type": "code",
      "execution_count": null,
      "metadata": {
        "colab": {
          "base_uri": "https://localhost:8080/"
        },
        "id": "y7wVmF6ckI3C",
        "outputId": "36d3f5a9-5bcb-4a74-8460-8d1f05e73875"
      },
      "outputs": [
        {
          "output_type": "stream",
          "name": "stdout",
          "text": [
            "Drive already mounted at /content/drive; to attempt to forcibly remount, call drive.mount(\"/content/drive\", force_remount=True).\n"
          ]
        }
      ],
      "source": [
        "from google.colab import drive\n",
        "drive.mount('/content/drive')"
      ]
    },
    {
      "cell_type": "code",
      "execution_count": null,
      "metadata": {
        "id": "T7K6Wa0Acmgn"
      },
      "outputs": [],
      "source": [
        "import zipfile\n",
        "\n",
        "\n",
        "zip_ref = zipfile.ZipFile(\"/content/drive/MyDrive/Face Images/archive.zip\", 'r')\n",
        "zip_ref.extractall(\"drive/MyDrive/face_images\")\n",
        "zip_ref.close()"
      ]
    },
    {
      "cell_type": "markdown",
      "source": [
        "# **Prepare Faces Images**"
      ],
      "metadata": {
        "id": "qe5KqNITcxo_"
      }
    },
    {
      "cell_type": "code",
      "execution_count": null,
      "metadata": {
        "id": "2jnLV3elsWm6",
        "cellView": "form"
      },
      "outputs": [],
      "source": [
        "#@title  Reshape Faces Dataset\n",
        "from PIL import Image\n",
        "import numpy as np\n",
        "from numpy.linalg import eigh\n",
        "\n",
        "dataMatrix = np.zeros(10304)\n",
        "for i in range(1,41):\n",
        "  for j in range(1,11):\n",
        "    img = Image.open(f'drive/MyDrive/face_images/s{i}/{j}.pgm')\n",
        "    data = np.asarray(img)\n",
        "    vectoredData = np.reshape(data, 10304)\n",
        "    dataMatrix = np.row_stack((dataMatrix,vectoredData))\n",
        "faces=dataMatrix[1:]\n",
        "\n",
        "\n",
        "\n"
      ]
    },
    {
      "cell_type": "code",
      "execution_count": null,
      "metadata": {
        "id": "no_1D5Wm4Wx_"
      },
      "outputs": [],
      "source": [
        "#@title Generate Y Vector\n",
        "labels = np.ones((400,1))\n",
        "adder = -1\n",
        "for i in range(400):\n",
        "  if i%10 == 0:\n",
        "    adder =adder+1\n",
        "  labels[i]=labels[i]+adder\n"
      ]
    },
    {
      "cell_type": "code",
      "execution_count": null,
      "metadata": {
        "id": "bnxkU8sulowo"
      },
      "outputs": [],
      "source": [
        "#@title Split data 50-50\n",
        "x_test=faces[1::2,:]  \n",
        "x_train=faces[::2,:]   \n",
        "y_test = labels[1::2,:] \n",
        "y_train=labels[::2,:] \n"
      ]
    },
    {
      "cell_type": "markdown",
      "source": [
        "# **PCA Functions**"
      ],
      "metadata": {
        "id": "mMiDGvmwddn9"
      }
    },
    {
      "cell_type": "code",
      "execution_count": null,
      "metadata": {
        "id": "IpEp8ct1ymkY",
        "cellView": "form"
      },
      "outputs": [],
      "source": [
        "#@title Get Project Matrix For every Alpha\n",
        "def PCA(x_train):\n",
        "  mean_vector_trained=np.mean(x_train,axis=0)\n",
        "  centralized_training=x_train-mean_vector_trained\n",
        "  covariance=np.cov(centralized_training,rowvar=False,bias=True)\n",
        "\n",
        "  #Find Eigen Values and Vectors\n",
        "  vals,vecs=eigh(covariance)\n",
        "\n",
        "  #Sort Eigen Values and Vectors\n",
        "  sorted_index = np.argsort(vals)[::-1]\n",
        "  sorted_eigenvalue = vals[sorted_index]\n",
        "  sorted_eigenvectors = vecs[:,sorted_index]\n",
        "\n",
        "  return sorted_eigenvalue,sorted_eigenvectors\n",
        "\n",
        "\n"
      ]
    },
    {
      "cell_type": "code",
      "execution_count": null,
      "metadata": {
        "id": "8dtJOFFfoRKg"
      },
      "outputs": [],
      "source": [
        "#@title Loop over alphas to find no of components for each alhpa\n",
        "\n",
        "def PCA_Test(alphas,sorted_eigenvalue):\n",
        "  no_components=[]\n",
        "  for alpha in alphas:\n",
        "    sum=0\n",
        "    for i in range(0,len(sorted_eigenvalue)):\n",
        "      sum=sum+sorted_eigenvalue[i]\n",
        "      if sum/np.sum(sorted_eigenvalue)>=alpha:\n",
        "        no_components.append(i+1)\n",
        "        break\n",
        "  return no_components\n",
        "\n"
      ]
    },
    {
      "cell_type": "code",
      "execution_count": null,
      "metadata": {
        "id": "8IBGvbHBqQt8"
      },
      "outputs": [],
      "source": [
        "#@title Transform Trained Data\n",
        "def PCA_Transformation(sorted_eigenvectors,no_components,x_train,x_test):\n",
        "  #Select N Eigen Vector for each subset\n",
        "  eigenvector_subset1=sorted_eigenvectors[:,0:no_components[0]]\n",
        "  eigenvector_subset2=sorted_eigenvectors[:,0:no_components[1]]\n",
        "  eigenvector_subset3=sorted_eigenvectors[:,0:no_components[2]]\n",
        "  eigenvector_subset4=sorted_eigenvectors[:,0:no_components[3]]\n",
        "\n",
        "\n",
        "  #Transform Data for each alpha\n",
        "  mean_vector_trained=np.mean(x_train,axis=0)\n",
        "  centralized_training=x_train-mean_vector_trained\n",
        "  x_train_reduced1 = np.dot(eigenvector_subset1.transpose(),centralized_training.transpose()).transpose()\n",
        "  x_train_reduced2= np.dot(eigenvector_subset2.transpose(),centralized_training.transpose()).transpose()\n",
        "  x_train_reduced3 = np.dot(eigenvector_subset3.transpose(),centralized_training.transpose()).transpose()\n",
        "  x_train_reduced4 = np.dot(eigenvector_subset4.transpose(),centralized_training.transpose()).transpose()\n",
        "\n",
        "  #Transform test Data for each alpha\n",
        "  mean_vector_test=np.mean(x_test,axis=0)\n",
        "  centralized_testing=x_test-mean_vector_test\n",
        "  x_test_reduced1 = np.dot(eigenvector_subset1.transpose(),centralized_testing.transpose()).transpose()\n",
        "  x_test_reduced2 = np.dot(eigenvector_subset2.transpose(),centralized_testing.transpose()).transpose()\n",
        "  x_test_reduced3 = np.dot(eigenvector_subset3.transpose(),centralized_testing.transpose()).transpose()\n",
        "  x_test_reduced4 = np.dot(eigenvector_subset4.transpose(),centralized_testing.transpose()).transpose()\n",
        "\n",
        "  return x_train_reduced1,x_train_reduced2,x_train_reduced3,x_train_reduced4,x_test_reduced1,x_test_reduced2,x_test_reduced3,x_test_reduced4\n"
      ]
    },
    {
      "cell_type": "markdown",
      "source": [
        "# **Testing PCA On Faces Dataset**"
      ],
      "metadata": {
        "id": "K4uRdQGqjZ_3"
      }
    },
    {
      "cell_type": "code",
      "source": [
        "alphas=[0.8,0.85,0.9,0.95]\n",
        "sorted_eigenvalue,sorted_eigenvectors=PCA(x_train)\n",
        "no_components=PCA_Test(alphas,sorted_eigenvalue)\n",
        "x_train_reduced1,x_train_reduced2,x_train_reduced3,x_train_reduced4,x_test_reduced1,x_test_reduced2,x_test_reduced3,x_test_reduced4=PCA_Transformation(sorted_eigenvectors,no_components,x_train,x_test)"
      ],
      "metadata": {
        "id": "NmT_UyKCjOV9"
      },
      "execution_count": null,
      "outputs": []
    },
    {
      "cell_type": "code",
      "execution_count": null,
      "metadata": {
        "colab": {
          "base_uri": "https://localhost:8080/",
          "height": 1000
        },
        "id": "Qo2B-FiouPiG",
        "outputId": "29ed2c52-1da3-4b47-a242-d063822c2562"
      },
      "outputs": [
        {
          "output_type": "stream",
          "name": "stdout",
          "text": [
            " Neigbhours are :  1\n",
            "Model Accuracy for alpha 0.8 = 95.0 %\n",
            "Model Accuracy for alpha 0.85 = 95.0 %\n",
            "Model Accuracy for alpha 0.9 = 93.5 %\n",
            "Model Accuracy for alpha 0.95 = 94.0 %\n"
          ]
        },
        {
          "output_type": "display_data",
          "data": {
            "text/plain": [
              "<Figure size 432x288 with 1 Axes>"
            ],
            "image/png": "[encoded data removed]"
          },
          "metadata": {
            "needs_background": "light"
          }
        },
        {
          "output_type": "stream",
          "name": "stdout",
          "text": [
            " Neigbhours are :  3\n",
            "Model Accuracy for alpha 0.8 = 89.5 %\n",
            "Model Accuracy for alpha 0.85 = 89.5 %\n",
            "Model Accuracy for alpha 0.9 = 89.5 %\n",
            "Model Accuracy for alpha 0.95 = 89.5 %\n"
          ]
        },
        {
          "output_type": "display_data",
          "data": {
            "text/plain": [
              "<Figure size 432x288 with 1 Axes>"
            ],
            "image/png": "[encoded data removed]"
          },
          "metadata": {
            "needs_background": "light"
          }
        },
        {
          "output_type": "stream",
          "name": "stdout",
          "text": [
            " Neigbhours are :  5\n",
            "Model Accuracy for alpha 0.8 = 84.0 %\n",
            "Model Accuracy for alpha 0.85 = 84.5 %\n",
            "Model Accuracy for alpha 0.9 = 84.5 %\n",
            "Model Accuracy for alpha 0.95 = 84.0 %\n"
          ]
        },
        {
          "output_type": "display_data",
          "data": {
            "text/plain": [
              "<Figure size 432x288 with 1 Axes>"
            ],
            "image/png": "[encoded data removed]"
          },
          "metadata": {
            "needs_background": "light"
          }
        },
        {
          "output_type": "stream",
          "name": "stdout",
          "text": [
            " Neigbhours are :  7\n",
            "Model Accuracy for alpha 0.8 = 80.0 %\n",
            "Model Accuracy for alpha 0.85 = 78.0 %\n",
            "Model Accuracy for alpha 0.9 = 75.5 %\n",
            "Model Accuracy for alpha 0.95 = 74.0 %\n"
          ]
        },
        {
          "output_type": "display_data",
          "data": {
            "text/plain": [
              "<Figure size 432x288 with 1 Axes>"
            ],
            "image/png": "[encoded data removed]"
          },
          "metadata": {
            "needs_background": "light"
          }
        }
      ],
      "source": [
        "#@title Model Creation and Testing\n",
        "from sklearn.neighbors import KNeighborsClassifier\n",
        "from sklearn import metrics\n",
        "import matplotlib.pyplot as plt\n",
        "\n",
        "K_Neigbhours=[1,3,5,7]\n",
        "for i in K_Neigbhours:\n",
        "  knn = KNeighborsClassifier(n_neighbors=i)\n",
        "\n",
        "  print(\" Neigbhours are : \",i)\n",
        "  knn.fit(x_train_reduced1,np.ravel(y_train))\n",
        "  y_pred = knn.predict(x_test_reduced1)\n",
        "  accuracy1  = metrics.accuracy_score(y_test,y_pred)\n",
        "  print(f'Model Accuracy for alpha 0.8 = {100*accuracy1:0.3} %' )\n",
        "\n",
        "\n",
        "  knn.fit(x_train_reduced2,np.ravel(y_train))\n",
        "  y_pred = knn.predict(x_test_reduced2)\n",
        "  accuracy2  = metrics.accuracy_score(y_test,y_pred)\n",
        "  print(f'Model Accuracy for alpha 0.85 = {100*accuracy2:0.3} %' )\n",
        "\n",
        "  knn.fit(x_train_reduced3,np.ravel(y_train))\n",
        "  y_pred = knn.predict(x_test_reduced3)\n",
        "  accuracy3  = metrics.accuracy_score(y_test,y_pred)\n",
        "  print(f'Model Accuracy for alpha 0.9 = {100*accuracy3:0.3} %' )\n",
        "\n",
        "  knn.fit(x_train_reduced4,np.ravel(y_train))\n",
        "  y_pred = knn.predict(x_test_reduced4)\n",
        "  accuracy4  = metrics.accuracy_score(y_test,y_pred)\n",
        "  print(f'Model Accuracy for alpha 0.95 = {100*accuracy4:0.3} %' )\n",
        "\n",
        "\n",
        "  alphas=[0.8,0.85,0.9,0.95]\n",
        "  scores=[accuracy1, accuracy2, accuracy3, accuracy4]\n",
        "  plt.plot(alphas, scores)\n",
        "  plt.xlabel('alphas')\n",
        "  plt.ylabel('scores')  \n",
        "  plt.title(\"K=\"+str(i))\n",
        "  plt.show()\n"
      ]
    },
    {
      "cell_type": "markdown",
      "metadata": {
        "id": "6WSB4Pf4DiWk"
      },
      "source": [
        "# **LDA Function**"
      ]
    },
    {
      "cell_type": "code",
      "execution_count": null,
      "metadata": {
        "id": "X_kbr01SDhhV"
      },
      "outputs": [],
      "source": [
        "#@title Get Mean Vector for every class\n",
        "import pandas as pd\n",
        "\n",
        "def LDA(x_train,y_train):\n",
        "  # Stick X and Y then Change to Dataframe\n",
        "  faces=np.column_stack([x_train, y_train])\n",
        "  faces = pd.DataFrame(faces)\n",
        "  #Get average of every feature for every class using group by \n",
        "  mean_vector=faces.groupby([10304]).mean()\n",
        "  #Change Data back to numpy\n",
        "  mean_vector = mean_vector.to_numpy()\n",
        "  #Get Center Class Matrices\n",
        "  center_class_matrix = np.zeros((len(x_train),10304))\n",
        "\n",
        "  subset=-1\n",
        "  for i in range(0,len(x_train)):\n",
        "    if i%5==0:\n",
        "      subset=subset+1\n",
        "    center_class_matrix[i]=x_train[i]-mean_vector[subset]\n",
        "\n",
        "\n",
        "  #Get Within Class Matrix \"S\"\n",
        "  within_class_matrix=np.zeros((10304,10304))\n",
        "  #Get Within class matrix S for every class \"For example class 1 is 5 instances so get S1\" then sum S for every class to get Within class matrix\n",
        "  for i in range(0,5,40):\n",
        "    within_class_matrix=within_class_matrix+np.dot(center_class_matrix[i:i+5,:].T,center_class_matrix[i:i+5,:])\n",
        "\n",
        "\n",
        "  #@title Calculate Between Class Matrix \"Sb\"\n",
        "  Between_class_matrix=np.zeros((10304,10304)) \n",
        "\n",
        "  for i in range(40):\n",
        "    mean_all_vector=np.mean(x_train,axis=0)\n",
        "    Between_class_matrix+=5*np.outer(mean_vector[i]-mean_all_vector, (mean_vector[i]-mean_all_vector).T)\n",
        "\n",
        "\n",
        "  #@title Get Eigen Values and Vectors\n",
        "  A = np.dot(np.linalg.inv(within_class_matrix),Between_class_matrix)\n",
        "  eigen_values, eigen_vectors = np.linalg.eigh(A) \n",
        "  # eigen_vectors = eigen_vectors.T\n",
        "  sorted_index = np.argsort(eigen_values)[::-1]\n",
        "  sorted_eigenvalue = eigen_values[sorted_index]\n",
        "  sorted_eigenvectors = eigen_vectors[:,sorted_index]\n",
        "\n",
        "  return sorted_eigenvalue,sorted_eigenvectors"
      ]
    },
    {
      "cell_type": "code",
      "execution_count": null,
      "metadata": {
        "id": "W5hzXnGRfpwB"
      },
      "outputs": [],
      "source": [
        "#@title Transform Train and Test data over projection matrix\n",
        "def LDA_Transformation(k,sorted_eigenvectors,x_train,x_test):\n",
        "  eigenvector_subset=sorted_eigenvectors[:,:k-1]\n",
        "  #Transform Train Data\n",
        "  mean_vector_trained=np.mean(x_train,axis=0)\n",
        "  centralized_training=x_train-mean_vector_trained\n",
        "  x_train_reduced = np.dot(eigenvector_subset.transpose(),centralized_training.transpose()).transpose()\n",
        "  #Transform Test Data\n",
        "  mean_vector_trained=np.mean(x_test,axis=0)\n",
        "  centralized_training=x_test-mean_vector_trained\n",
        "  x_test_reduced = np.dot(eigenvector_subset.transpose(),centralized_training.transpose()).transpose()\n",
        "  \n",
        "  return x_train_reduced,x_test_reduced\n"
      ]
    },
    {
      "cell_type": "markdown",
      "source": [
        "# **Testing LDA On Faces Dataset**"
      ],
      "metadata": {
        "id": "5jpn9itZk9L4"
      }
    },
    {
      "cell_type": "code",
      "execution_count": null,
      "metadata": {
        "id": "fT51eXlohIYt"
      },
      "outputs": [],
      "source": [
        "#@title Training and Testing KNN Model\n",
        "from sklearn.neighbors import KNeighborsClassifier\n",
        "from sklearn import metrics\n",
        "\n",
        "sorted_eigenvalue,sorted_eigenvectors=LDA(x_train,y_train)\n",
        "x_train_reduced,x_test_reduced=LDA_Transformation(39,sorted_eigenvectors,x_train,x_test)\n",
        "\n",
        "\n",
        "\n",
        "\n"
      ]
    },
    {
      "cell_type": "code",
      "source": [
        "K_Neigbhours=[1,3,5,7]\n",
        "scores=[]\n",
        "for i in K_Neigbhours:\n",
        "  knn = KNeighborsClassifier(n_neighbors=i)\n",
        "  print(\" Neigbhours are : \",i)\n",
        "  knn.fit(x_train_reduced,np.ravel(y_train))\n",
        "  y_pred = knn.predict(x_test_reduced)\n",
        "  accuracy  = metrics.accuracy_score(y_test,y_pred)\n",
        "  print(f'Model Accuracy = {100*accuracy:0.3} %' )\n",
        "  scores.append(accuracy)\n",
        "plt.plot(K_Neigbhours, scores)\n",
        "plt.xlabel('K Neigbhours')\n",
        "plt.ylabel('scores')  \n",
        "plt.show()"
      ],
      "metadata": {
        "colab": {
          "base_uri": "https://localhost:8080/",
          "height": 418
        },
        "id": "N_vIlNdXwyBI",
        "outputId": "93781401-c37c-4b65-d8eb-ec65ec606ab9"
      },
      "execution_count": null,
      "outputs": [
        {
          "output_type": "stream",
          "name": "stdout",
          "text": [
            " Neigbhours are :  1\n",
            "Model Accuracy = 93.5 %\n",
            " Neigbhours are :  3\n",
            "Model Accuracy = 85.5 %\n",
            " Neigbhours are :  5\n",
            "Model Accuracy = 81.5 %\n",
            " Neigbhours are :  7\n",
            "Model Accuracy = 72.5 %\n"
          ]
        },
        {
          "output_type": "display_data",
          "data": {
            "text/plain": [
              "<Figure size 432x288 with 1 Axes>"
            ],
            "image/png": "[encoded data removed]"
          },
          "metadata": {
            "needs_background": "light"
          }
        }
      ]
    },
    {
      "cell_type": "markdown",
      "source": [
        "# **Non Faces Preparation**"
      ],
      "metadata": {
        "id": "yOmZ1bk8cGEk"
      }
    },
    {
      "cell_type": "code",
      "source": [
        "#@title  Import Cars Dataset\n",
        "dataMatrix = np.zeros(10304)\n",
        "for i in range(1,801):\n",
        "   cars=Image.open(f'/content/drive/MyDrive/Non_Faces_Images/{i}.jpg')\n",
        "   cars=cars.resize((92,112)).convert('L')\n",
        "   data = np.asarray(cars).T\n",
        "   vectoredData = np.reshape(data, 10304)\n",
        "   dataMatrix = np.row_stack((dataMatrix,vectoredData))\n",
        "non_faces=dataMatrix[1:]\n",
        "\n",
        "\n",
        "non_faces.shape"
      ],
      "metadata": {
        "colab": {
          "base_uri": "https://localhost:8080/"
        },
        "id": "p9pDa6Lf-m8v",
        "outputId": "8d9b3ae6-e5ea-4d16-b7c6-4b59cd8fe886"
      },
      "execution_count": null,
      "outputs": [
        {
          "output_type": "execute_result",
          "data": {
            "text/plain": [
              "(800, 10304)"
            ]
          },
          "metadata": {},
          "execution_count": 9
        }
      ]
    },
    {
      "cell_type": "code",
      "source": [
        "#@title Get Different Number of Non faces to train with\n",
        "non_faces_400=non_faces[0:400]\n",
        "non_faces_500=non_faces[0:500]\n",
        "non_faces_600=non_faces[0:600]\n"
      ],
      "metadata": {
        "id": "WfO94UTfUfhI"
      },
      "execution_count": null,
      "outputs": []
    },
    {
      "cell_type": "code",
      "source": [
        "#@title Binary Classification for faces and non faces\n",
        "\n",
        "#Train Data\n",
        "\n",
        "classes400 = np.ones((400,1))\n",
        "for i in range(0,200):\n",
        "  classes400[i]=0\n",
        "\n",
        "classes500 = np.ones((450,1))\n",
        "for i in range(0,200):\n",
        "  classes500[i]=0\n",
        "\n",
        "\n",
        "classes600 = np.ones((500,1))\n",
        "for i in range(0,200):\n",
        "  classes600[i]=0\n",
        "\n"
      ],
      "metadata": {
        "id": "sIfe8yiNgYV0"
      },
      "execution_count": null,
      "outputs": []
    },
    {
      "cell_type": "code",
      "source": [
        "#@title Preparing Data for train and test from both classes\n",
        "non_faces_train400=non_faces_400[1::2, :]  \n",
        "non_faces_test400=non_faces_400[::2,:]\n",
        "train_data1=np.concatenate((x_train,non_faces_train400), axis=0)\n",
        "test_data1=np.concatenate((x_test,non_faces_test400), axis=0)\n",
        "\n",
        "\n",
        "non_faces_train500=non_faces_500[1::2, :]  \n",
        "non_faces_test500=non_faces_500[::2,:]\n",
        "train_data2=np.concatenate((x_train,non_faces_train500), axis=0)\n",
        "test_data2=np.concatenate((x_test,non_faces_test500), axis=0)\n",
        "\n",
        "non_faces_train600=non_faces_600[1::2, :]  \n",
        "non_faces_test600=non_faces_600[::2,:]\n",
        "train_data3=np.concatenate((x_train,non_faces_train600), axis=0)\n",
        "test_data3=np.concatenate((x_test,non_faces_test600), axis=0)\n",
        "\n",
        "\n",
        "\n"
      ],
      "metadata": {
        "id": "ZrxZSvHQgzyt"
      },
      "execution_count": null,
      "outputs": []
    },
    {
      "cell_type": "code",
      "source": [
        "non_faces_800=non_faces[0:800]\n",
        "\n",
        "classes800 = np.ones((600,1))\n",
        "for i in range(0,200):\n",
        "  classes800[i]=0\n",
        "\n",
        "\n",
        "non_faces_train800=non_faces_800[1::2, :]  \n",
        "non_faces_test800=non_faces_800[::2,:]\n",
        "train_data4=np.concatenate((x_train,non_faces_train800), axis=0)\n",
        "test_data4=np.concatenate((x_test,non_faces_test800), axis=0)\n",
        "\n",
        "\n"
      ],
      "metadata": {
        "id": "uHpumqGbiGPJ"
      },
      "execution_count": null,
      "outputs": []
    },
    {
      "cell_type": "markdown",
      "source": [
        "# **Testing PCA On Both Faces and Non Faces**"
      ],
      "metadata": {
        "id": "ZhP54i6vqgZr"
      }
    },
    {
      "cell_type": "code",
      "source": [
        "alphas=[0.8,0.85,0.9,0.95]\n",
        "sorted_eigenvalue,sorted_eigenvectors=PCA(train_data)\n",
        "no_components=PCA_Test(alphas,sorted_eigenvalue)\n",
        "x_train_reduced1,x_train_reduced2,x_train_reduced3,x_train_reduced4,x_test_reduced1,x_test_reduced2,x_test_reduced3,x_test_reduced4=PCA_Transformation(sorted_eigenvectors,no_components,train_data,test_data)"
      ],
      "metadata": {
        "id": "V6eYDk9ZqFVp"
      },
      "execution_count": null,
      "outputs": []
    },
    {
      "cell_type": "code",
      "source": [
        "#@title Model Creation and Testing\n",
        "from sklearn.neighbors import KNeighborsClassifier\n",
        "from sklearn import metrics\n",
        "\n",
        "K_Neigbhours=[1,3,5,7]\n",
        "for i in K_Neigbhours:\n",
        "  knn = KNeighborsClassifier(n_neighbors=i)\n",
        "\n",
        "  print(\" Neigbhours are : \",i)\n",
        "  knn.fit(x_train_reduced1,np.ravel(classes))\n",
        "  y_pred = knn.predict(x_test_reduced1)\n",
        "  accuracy  = metrics.accuracy_score(classes,y_pred)\n",
        "  print(f'Model Accuracy for alpha 0.8 = {100*accuracy:0.3} %' )\n",
        "\n",
        "\n",
        "  knn.fit(x_train_reduced2,np.ravel(classes))\n",
        "  y_pred = knn.predict(x_test_reduced2)\n",
        "  accuracy  = metrics.accuracy_score(classes,y_pred)\n",
        "  print(f'Model Accuracy for alpha 0.85 = {100*accuracy:0.3} %' )\n",
        "\n",
        "  knn.fit(x_train_reduced3,np.ravel(classes))\n",
        "  y_pred = knn.predict(x_test_reduced3)\n",
        "  accuracy  = metrics.accuracy_score(classes,y_pred)\n",
        "  print(f'Model Accuracy for alpha 0.9 = {100*accuracy:0.3} %' )\n",
        "\n",
        "  knn.fit(x_train_reduced4,np.ravel(classes))\n",
        "  y_pred = knn.predict(x_test_reduced4)\n",
        "  accuracy  = metrics.accuracy_score(classes,y_pred)\n",
        "  print(f'Model Accuracy for alpha 0.95 = {100*accuracy:0.3} %' )\n",
        "\n",
        "\n"
      ],
      "metadata": {
        "colab": {
          "base_uri": "https://localhost:8080/"
        },
        "id": "dlW5yaF_sJoY",
        "outputId": "59707acc-30ef-435e-d2e1-1fbedc589cf2"
      },
      "execution_count": null,
      "outputs": [
        {
          "output_type": "stream",
          "name": "stdout",
          "text": [
            " Neigbhours are :  1\n",
            "Model Accuracy for alpha 0.8 = 99.0 %\n",
            "Model Accuracy for alpha 0.85 = 99.0 %\n",
            "Model Accuracy for alpha 0.9 = 97.8 %\n",
            "Model Accuracy for alpha 0.95 = 96.8 %\n",
            " Neigbhours are :  3\n",
            "Model Accuracy for alpha 0.8 = 98.5 %\n",
            "Model Accuracy for alpha 0.85 = 98.2 %\n",
            "Model Accuracy for alpha 0.9 = 97.2 %\n",
            "Model Accuracy for alpha 0.95 = 94.8 %\n",
            " Neigbhours are :  5\n",
            "Model Accuracy for alpha 0.8 = 98.2 %\n",
            "Model Accuracy for alpha 0.85 = 97.8 %\n",
            "Model Accuracy for alpha 0.9 = 96.2 %\n",
            "Model Accuracy for alpha 0.95 = 93.2 %\n",
            " Neigbhours are :  7\n",
            "Model Accuracy for alpha 0.8 = 97.8 %\n",
            "Model Accuracy for alpha 0.85 = 97.0 %\n",
            "Model Accuracy for alpha 0.9 = 95.5 %\n",
            "Model Accuracy for alpha 0.95 = 91.8 %\n"
          ]
        }
      ]
    },
    {
      "cell_type": "markdown",
      "source": [
        "# **Testing LDA on Faces with Non faces**"
      ],
      "metadata": {
        "id": "hFes4XDytUyW"
      }
    },
    {
      "cell_type": "code",
      "source": [
        "#@title LDA Function for both Faces and Non Faces Data\n",
        "\n",
        "#@title Get Mean Vector for every class\n",
        "import pandas as pd\n",
        "\n",
        "def LDA(x_train,y_train):\n",
        "  # Stick X and Y then Change to Dataframe\n",
        "  faces=np.column_stack([x_train, y_train])\n",
        "  faces = pd.DataFrame(faces)\n",
        "  #Get average of every feature for every class using group by \n",
        "  mean_vector=faces.groupby([10304]).mean()\n",
        "  #Change Data back to numpy\n",
        "  mean_vector = mean_vector.to_numpy()\n",
        "  print(\"mean vector\",mean_vector)\n",
        "  #Get Center Class Matrices\n",
        "  center_class_matrix = np.zeros((len(x_train),10304))\n",
        "\n",
        "\n",
        "  for i in range(0,len(x_train)):\n",
        "    if i>199:\n",
        "      center_class_matrix[i]=x_train[i]-mean_vector[1]\n",
        "    else:\n",
        "      center_class_matrix[i]=x_train[i]-mean_vector[0]\n",
        "\n",
        "\n",
        "\n",
        "  print(\"center_class vector\",center_class_matrix.shape)\n",
        "\n",
        "  #Get Within Class Matrix \"S\"\n",
        "  within_class_matrix=np.zeros((10304,10304))\n",
        "  #Get Within class matrix S for every class \"For example class 1 is 200 instances so get S1\" then sum S for every class to get Within class matrix\n",
        "  S1=np.dot(center_class_matrix[0:200,:].T,center_class_matrix[0:200,:])\n",
        "  S2=np.dot(center_class_matrix[200:400,:].T,center_class_matrix[200:400,:])\n",
        "  within_class_matrix=S1+S2\n",
        "\n",
        "  print(\"within class\",within_class_matrix.shape)\n",
        "\n",
        "\n",
        "  #@title Calculate Between Class Matrix \"Sb\"\n",
        "  Between_class_matrix=np.zeros((10304,10304)) \n",
        "  mean_all_vector=np.mean(x_train,axis=0)\n",
        "  Between_class_matrix+=np.outer(mean_vector[0]-mean_vector[1], (mean_vector[0]-mean_vector[1]).T)\n",
        "  print(\"between\",Between_class_matrix.shape)\n",
        "  #@title Get Eigen Values and Vectors\n",
        "  A = np.dot(np.linalg.inv(within_class_matrix),Between_class_matrix)\n",
        "  eigen_values, eigen_vectors = np.linalg.eigh(A) \n",
        "  # eigen_vectors = eigen_vectors.T\n",
        "  sorted_index = np.argsort(eigen_values)[::-1]\n",
        "  sorted_eigenvalue = eigen_values[sorted_index]\n",
        "  sorted_eigenvectors = eigen_vectors[:,sorted_index]\n",
        "\n",
        "  return sorted_eigenvalue,sorted_eigenvectors"
      ],
      "metadata": {
        "id": "bMD6U3UC36Ox",
        "cellView": "form"
      },
      "execution_count": null,
      "outputs": []
    },
    {
      "cell_type": "code",
      "source": [
        "#@title Get Eigen Values and Vectors for each Sampling \n",
        "sorted_eigenvalue1,sorted_eigenvectors1=LDA(train_data1,classes400)\n",
        "sorted_eigenvalue2,sorted_eigenvectors2=LDA(train_data2,classes500)\n",
        "sorted_eigenvalue3,sorted_eigenvectors3=LDA(train_data3,classes600)\n",
        "sorted_eigenvalue4,sorted_eigenvectors4=LDA(train_data4,classes800)\n",
        "\n",
        "\n",
        "\n"
      ],
      "metadata": {
        "id": "LMiXwuQjtZSc",
        "colab": {
          "base_uri": "https://localhost:8080/"
        },
        "outputId": "e828f61f-be82-4f57-a070-6985ab412b63"
      },
      "execution_count": null,
      "outputs": [
        {
          "output_type": "stream",
          "name": "stdout",
          "text": [
            "mean vector [[ 86.115  86.265  86.685 ...  76.5    77.395  77.085]\n",
            " [142.33  142.39  141.695 ... 124.045 123.73  121.66 ]]\n",
            "center_class vector (400, 10304)\n",
            "within class (10304, 10304)\n",
            "between (10304, 10304)\n",
            "mean vector [[ 86.115  86.265  86.685 ...  76.5    77.395  77.085]\n",
            " [143.576 144.152 143.188 ... 126.584 125.7   123.512]]\n",
            "center_class vector (450, 10304)\n",
            "within class (10304, 10304)\n",
            "between (10304, 10304)\n",
            "mean vector [[ 86.115       86.265       86.685      ...  76.5         77.395\n",
            "   77.085     ]\n",
            " [142.79666667 143.09333333 142.21       ... 123.08       122.40666667\n",
            "  120.61      ]]\n",
            "center_class vector (500, 10304)\n",
            "within class (10304, 10304)\n",
            "between (10304, 10304)\n",
            "mean vector [[ 86.115   86.265   86.685  ...  76.5     77.395   77.085 ]\n",
            " [144.885  145.58   144.9275 ... 124.11   123.1875 122.0275]]\n",
            "center_class vector (600, 10304)\n",
            "within class (10304, 10304)\n",
            "between (10304, 10304)\n"
          ]
        }
      ]
    },
    {
      "cell_type": "code",
      "source": [
        "#@title Non faces lda_transformation\n",
        "#@title Transform Train and Test data over projection matrix\n",
        "def LDA_Transformation_non(sorted_eigenvectors,x_train,x_test):\n",
        "  eigenvector_subset=sorted_eigenvectors[:,0]\n",
        "  #Transform Train Data\n",
        "  mean_vector_trained=np.mean(x_train,axis=0)\n",
        "  centralized_training=x_train-mean_vector_trained\n",
        "  x_train_reduced = np.dot(eigenvector_subset.transpose(),centralized_training.transpose()).transpose()\n",
        "  #Transform Test Data\n",
        "  mean_vector_trained=np.mean(x_test,axis=0)\n",
        "  centralized_training=x_test-mean_vector_trained\n",
        "  x_test_reduced = np.dot(eigenvector_subset.transpose(),centralized_training.transpose()).transpose()\n",
        "  \n",
        "  return x_train_reduced,x_test_reduced\n"
      ],
      "metadata": {
        "id": "8p7WK9s44uvZ"
      },
      "execution_count": null,
      "outputs": []
    },
    {
      "cell_type": "code",
      "source": [
        "#@title Training and Testing KNN Model\n",
        "from sklearn.metrics import confusion_matrix\n",
        "import matplotlib.pyplot as plt\n",
        "import seaborn as sns\n",
        "from sklearn.neighbors import KNeighborsClassifier\n",
        "from sklearn import metrics\n",
        "K_Neigbhours=[1,3,5,7,9]\n",
        "\n",
        "x_train_reduced1,x_test_reduced1=LDA_Transformation_non(sorted_eigenvectors1,train_data1,test_data1)\n",
        "for i in K_Neigbhours:\n",
        "  knn = KNeighborsClassifier(n_neighbors=i)\n",
        "  print(\" Neigbhours are : \",i)\n",
        "  knn.fit(x_train_reduced1.reshape(-1, 1),np.ravel(classes400))\n",
        "  y_pred = knn.predict(x_test_reduced1.reshape(-1, 1))\n",
        "  accuracy  = metrics.accuracy_score(classes400,y_pred)\n",
        "  print(f'Model Accuracy = {100*accuracy:0.3} %' )\n",
        "\n",
        "cf_matrix = confusion_matrix(classes400,y_pred)\n",
        "ax = sns.heatmap(cf_matrix, annot=True, cmap='Blues')\n",
        "ax.set_title('Train Data 200 Faces and 200 Non Faces');\n",
        "ax.set_xlabel('\\nPredicted Values')\n",
        "ax.set_ylabel('Actual Values ');\n",
        "ax.xaxis.set_ticklabels(['False','True'])\n",
        "ax.yaxis.set_ticklabels(['False','True'])\n",
        "plt.show()\n",
        "\n",
        "\n",
        "\n",
        "\n",
        "x_train_reduced2,x_test_reduced2=LDA_Transformation_non(sorted_eigenvectors2,train_data2,test_data2)\n",
        "for i in K_Neigbhours:\n",
        "  knn = KNeighborsClassifier(n_neighbors=i)\n",
        "  print(\" Neigbhours are : \",i)\n",
        "  knn.fit(x_train_reduced2.reshape(-1, 1),np.ravel(classes500))\n",
        "  y_pred = knn.predict(x_test_reduced2.reshape(-1, 1))\n",
        "  accuracy  = metrics.accuracy_score(classes500,y_pred)\n",
        "  print(f'Model Accuracy = {100*accuracy:0.3} %' )\n",
        "\n",
        "\n",
        "cf_matrix = confusion_matrix(classes500,y_pred)\n",
        "ax = sns.heatmap(cf_matrix, annot=True, cmap='Blues')\n",
        "ax.set_title('Train Data 200 Faces and 250 Non Faces');\n",
        "ax.set_xlabel('\\nPredicted Values')\n",
        "ax.set_ylabel('Actual Values ');\n",
        "ax.xaxis.set_ticklabels(['False','True'])\n",
        "ax.yaxis.set_ticklabels(['False','True'])\n",
        "plt.show()\n",
        "\n",
        "\n",
        "\n",
        "x_train_reduced3,x_test_reduced3=LDA_Transformation_non(sorted_eigenvectors3,train_data3,test_data3)\n",
        "for i in K_Neigbhours:\n",
        "  knn = KNeighborsClassifier(n_neighbors=i)\n",
        "  print(\" Neigbhours are : \",i)\n",
        "  knn.fit(x_train_reduced3.reshape(-1, 1),np.ravel(classes600))\n",
        "  y_pred = knn.predict(x_test_reduced3.reshape(-1, 1))\n",
        "  accuracy  = metrics.accuracy_score(classes600,y_pred)\n",
        "  print(f'Model Accuracy = {100*accuracy:0.3} %' )\n",
        "\n",
        "\n",
        "cf_matrix = confusion_matrix(classes600,y_pred)\n",
        "ax = sns.heatmap(cf_matrix, annot=True, cmap='Blues')\n",
        "ax.set_title('Train Data 200 Faces and 300 Non Faces');\n",
        "ax.set_xlabel('\\nPredicted Values')\n",
        "ax.set_ylabel('Actual Values ');\n",
        "ax.xaxis.set_ticklabels(['False','True'])\n",
        "ax.yaxis.set_ticklabels(['False','True'])\n",
        "plt.show()\n",
        "\n",
        "\n",
        "\n",
        "\n",
        "x_train_reduced4,x_test_reduced4=LDA_Transformation_non(sorted_eigenvectors4,train_data4,test_data4)\n",
        "for i in K_Neigbhours:\n",
        "  knn = KNeighborsClassifier(n_neighbors=i)\n",
        "  print(\" Neigbhours are : \",i)\n",
        "  knn.fit(x_train_reduced4.reshape(-1, 1),np.ravel(classes800))\n",
        "  y_pred = knn.predict(x_test_reduced4.reshape(-1, 1))\n",
        "  accuracy  = metrics.accuracy_score(classes800,y_pred)\n",
        "  print(f'Model Accuracy = {100*accuracy:0.3} %' )\n",
        "\n",
        "\n",
        "\n",
        "cf_matrix = confusion_matrix(classes800,y_pred)\n",
        "ax = sns.heatmap(cf_matrix, annot=True, cmap='Blues')\n",
        "ax.set_title('Train Data 200 Faces and 400 Non Faces');\n",
        "ax.set_xlabel('\\nPredicted Values')\n",
        "ax.set_ylabel('Actual Values ');\n",
        "ax.xaxis.set_ticklabels(['False','True'])\n",
        "ax.yaxis.set_ticklabels(['False','True'])\n",
        "plt.show()\n",
        "\n",
        "\n"
      ],
      "metadata": {
        "colab": {
          "base_uri": "https://localhost:8080/",
          "height": 1000
        },
        "id": "QBgTPcPt0LOq",
        "outputId": "ea45df21-dc2c-48e0-d07d-e7cb638bea73"
      },
      "execution_count": null,
      "outputs": [
        {
          "output_type": "stream",
          "name": "stdout",
          "text": [
            " Neigbhours are :  1\n",
            "Model Accuracy = 95.0 %\n",
            " Neigbhours are :  3\n",
            "Model Accuracy = 94.5 %\n",
            " Neigbhours are :  5\n",
            "Model Accuracy = 96.0 %\n",
            " Neigbhours are :  7\n",
            "Model Accuracy = 96.0 %\n",
            " Neigbhours are :  9\n",
            "Model Accuracy = 95.8 %\n"
          ]
        },
        {
          "output_type": "display_data",
          "data": {
            "text/plain": [
              "<Figure size 432x288 with 2 Axes>"
            ],
            "image/png": "[encoded data removed]"
          },
          "metadata": {
            "needs_background": "light"
          }
        },
        {
          "output_type": "stream",
          "name": "stdout",
          "text": [
            " Neigbhours are :  1\n",
            "Model Accuracy = 70.9 %\n",
            " Neigbhours are :  3\n",
            "Model Accuracy = 74.9 %\n",
            " Neigbhours are :  5\n",
            "Model Accuracy = 76.4 %\n",
            " Neigbhours are :  7\n",
            "Model Accuracy = 75.8 %\n",
            " Neigbhours are :  9\n",
            "Model Accuracy = 77.1 %\n"
          ]
        },
        {
          "output_type": "display_data",
          "data": {
            "text/plain": [
              "<Figure size 432x288 with 2 Axes>"
            ],
            "image/png": "[encoded data removed]"
          },
          "metadata": {
            "needs_background": "light"
          }
        },
        {
          "output_type": "stream",
          "name": "stdout",
          "text": [
            " Neigbhours are :  1\n",
            "Model Accuracy = 94.2 %\n",
            " Neigbhours are :  3\n",
            "Model Accuracy = 94.6 %\n",
            " Neigbhours are :  5\n",
            "Model Accuracy = 94.8 %\n",
            " Neigbhours are :  7\n",
            "Model Accuracy = 96.0 %\n",
            " Neigbhours are :  9\n",
            "Model Accuracy = 96.2 %\n"
          ]
        },
        {
          "output_type": "display_data",
          "data": {
            "text/plain": [
              "<Figure size 432x288 with 2 Axes>"
            ],
            "image/png": "[encoded data removed]"
          },
          "metadata": {
            "needs_background": "light"
          }
        },
        {
          "output_type": "stream",
          "name": "stdout",
          "text": [
            " Neigbhours are :  1\n",
            "Model Accuracy = 96.2 %\n",
            " Neigbhours are :  3\n",
            "Model Accuracy = 96.3 %\n",
            " Neigbhours are :  5\n",
            "Model Accuracy = 96.3 %\n",
            " Neigbhours are :  7\n",
            "Model Accuracy = 96.5 %\n",
            " Neigbhours are :  9\n",
            "Model Accuracy = 96.7 %\n"
          ]
        },
        {
          "output_type": "display_data",
          "data": {
            "text/plain": [
              "<Figure size 432x288 with 2 Axes>"
            ],
            "image/png": "[encoded data removed]"
          },
          "metadata": {
            "needs_background": "light"
          }
        }
      ]
    },
    {
      "cell_type": "markdown",
      "source": [
        "# **Bonus Split Data 70-30**"
      ],
      "metadata": {
        "id": "r_Q5DBruqns8"
      }
    },
    {
      "cell_type": "code",
      "source": [
        "#@title Split 70-30\n",
        "from sklearn.model_selection import train_test_split\n",
        "x_train, x_test, y_train, y_test = train_test_split(faces, labels,random_state=1, test_size=0.3,stratify=labels)\n"
      ],
      "metadata": {
        "id": "clQZpVj-0nLw"
      },
      "execution_count": null,
      "outputs": []
    }
  ],
  "metadata": {
    "colab": {
      "provenance": []
    },
    "kernelspec": {
      "display_name": "Python 3",
      "name": "python3"
    },
    "language_info": {
      "name": "python"
    }
  },
  "nbformat": 4,
  "nbformat_minor": 0
}